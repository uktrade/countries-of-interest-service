{
 "cells": [
  {
   "cell_type": "code",
   "execution_count": 16,
   "metadata": {
    "collapsed": true
   },
   "outputs": [],
   "source": [
    "import psycopg2"
   ]
  },
  {
   "cell_type": "code",
   "execution_count": 39,
   "metadata": {},
   "outputs": [],
   "source": [
    "uri = 'postgresql://127.0.0.1:7080/rdsbroker_723069ee_da4e_4005_91bb_05ae87d4c572?password=xuEe6KTFRZHvH7gQm7eHXhMr67ERfBBl&ssl=true&user=utrlzjpvxkuw5ogu'\n",
    "connection = psycopg2.connect(uri)\n",
    "cursor = connection.cursor()"
   ]
  },
  {
   "cell_type": "markdown",
   "metadata": {},
   "source": [
    "#### current user"
   ]
  },
  {
   "cell_type": "code",
   "execution_count": 26,
   "metadata": {},
   "outputs": [
    {
     "data": {
      "text/plain": [
       "[('utrlzjpvxkuw5ogu',)]"
      ]
     },
     "execution_count": 26,
     "metadata": {},
     "output_type": "execute_result"
    }
   ],
   "source": [
    "sql = '''select current_user'''\n",
    "cursor.execute(sql)\n",
    "cursor.fetchall()"
   ]
  },
  {
   "cell_type": "markdown",
   "metadata": {},
   "source": [
    "#### current database"
   ]
  },
  {
   "cell_type": "code",
   "execution_count": 27,
   "metadata": {},
   "outputs": [
    {
     "data": {
      "text/plain": [
       "[('rdsbroker_723069ee_da4e_4005_91bb_05ae87d4c572',)]"
      ]
     },
     "execution_count": 27,
     "metadata": {},
     "output_type": "execute_result"
    }
   ],
   "source": [
    "sql = '''select current_database()'''\n",
    "cursor.execute(sql)\n",
    "cursor.fetchall()"
   ]
  },
  {
   "cell_type": "markdown",
   "metadata": {},
   "source": [
    "#### databases"
   ]
  },
  {
   "cell_type": "code",
   "execution_count": 28,
   "metadata": {},
   "outputs": [
    {
     "data": {
      "text/plain": [
       "[('rdsbroker_723069ee_da4e_4005_91bb_05ae87d4c572',)]"
      ]
     },
     "execution_count": 28,
     "metadata": {},
     "output_type": "execute_result"
    }
   ],
   "source": [
    "sql = '''SELECT * FROM current_catalog'''\n",
    "cursor.execute(sql)\n",
    "cursor.fetchall()"
   ]
  },
  {
   "cell_type": "markdown",
   "metadata": {},
   "source": [
    "#### tables"
   ]
  },
  {
   "cell_type": "code",
   "execution_count": 30,
   "metadata": {},
   "outputs": [
    {
     "data": {
      "text/plain": [
       "[('geography_columns',),\n",
       " ('geometry_columns',),\n",
       " ('spatial_ref_sys',),\n",
       " ('raster_columns',),\n",
       " ('raster_overviews',),\n",
       " ('pg_type',),\n",
       " ('pg_user_mappings',),\n",
       " ('pg_policy',),\n",
       " ('pg_settings',),\n",
       " ('pg_subscription',),\n",
       " ('pg_stat_user_tables',),\n",
       " ('pg_stat_xact_user_tables',),\n",
       " ('pg_attribute',),\n",
       " ('pg_proc',),\n",
       " ('pg_class',),\n",
       " ('pg_attrdef',),\n",
       " ('pg_constraint',),\n",
       " ('pg_statio_all_tables',),\n",
       " ('pg_statio_sys_tables',),\n",
       " ('pg_statio_user_tables',),\n",
       " ('pg_stat_all_indexes',),\n",
       " ('pg_inherits',),\n",
       " ('pg_index',),\n",
       " ('pg_operator',),\n",
       " ('pg_opfamily',),\n",
       " ('pg_opclass',),\n",
       " ('pg_am',),\n",
       " ('pg_amop',),\n",
       " ('pg_amproc',),\n",
       " ('pg_language',),\n",
       " ('pg_largeobject_metadata',),\n",
       " ('pg_aggregate',),\n",
       " ('pg_statistic_ext',),\n",
       " ('pg_rewrite',),\n",
       " ('pg_trigger',),\n",
       " ('pg_event_trigger',),\n",
       " ('pg_description',),\n",
       " ('pg_cast',),\n",
       " ('pg_enum',),\n",
       " ('pg_namespace',),\n",
       " ('pg_conversion',),\n",
       " ('pg_depend',),\n",
       " ('pg_database',),\n",
       " ('pg_db_role_setting',),\n",
       " ('pg_tablespace',),\n",
       " ('pg_pltemplate',),\n",
       " ('pg_auth_members',),\n",
       " ('pg_shdepend',),\n",
       " ('pg_shdescription',),\n",
       " ('pg_ts_config',),\n",
       " ('pg_ts_config_map',),\n",
       " ('pg_ts_dict',),\n",
       " ('pg_ts_parser',),\n",
       " ('pg_ts_template',),\n",
       " ('pg_extension',),\n",
       " ('pg_foreign_data_wrapper',),\n",
       " ('pg_foreign_server',),\n",
       " ('pg_foreign_table',),\n",
       " ('pg_replication_origin',),\n",
       " ('pg_default_acl',),\n",
       " ('pg_init_privs',),\n",
       " ('pg_seclabel',),\n",
       " ('pg_shseclabel',),\n",
       " ('pg_collation',),\n",
       " ('pg_partitioned_table',),\n",
       " ('pg_range',),\n",
       " ('pg_transform',),\n",
       " ('pg_sequence',),\n",
       " ('pg_publication',),\n",
       " ('pg_publication_rel',),\n",
       " ('pg_subscription_rel',),\n",
       " ('pg_roles',),\n",
       " ('pg_locks',),\n",
       " ('pg_group',),\n",
       " ('pg_user',),\n",
       " ('pg_policies',),\n",
       " ('pg_rules',),\n",
       " ('pg_views',),\n",
       " ('pg_tables',),\n",
       " ('pg_matviews',),\n",
       " ('pg_indexes',),\n",
       " ('pg_sequences',),\n",
       " ('pg_stats',),\n",
       " ('pg_publication_tables',),\n",
       " ('pg_cursors',),\n",
       " ('pg_available_extensions',),\n",
       " ('pg_available_extension_versions',),\n",
       " ('pg_prepared_xacts',),\n",
       " ('pg_prepared_statements',),\n",
       " ('pg_seclabels',),\n",
       " ('pg_timezone_names',),\n",
       " ('pg_timezone_abbrevs',),\n",
       " ('pg_stat_all_tables',),\n",
       " ('pg_stat_xact_all_tables',),\n",
       " ('pg_stat_sys_tables',),\n",
       " ('pg_stat_xact_sys_tables',),\n",
       " ('pg_stat_sys_indexes',),\n",
       " ('pg_stat_user_indexes',),\n",
       " ('pg_statio_all_indexes',),\n",
       " ('pg_statio_sys_indexes',),\n",
       " ('pg_statio_user_indexes',),\n",
       " ('pg_statio_all_sequences',),\n",
       " ('pg_statio_sys_sequences',),\n",
       " ('pg_statio_user_sequences',),\n",
       " ('pg_stat_activity',),\n",
       " ('pg_stat_replication',),\n",
       " ('pg_stat_wal_receiver',),\n",
       " ('pg_stat_subscription',),\n",
       " ('pg_stat_ssl',),\n",
       " ('pg_replication_slots',),\n",
       " ('pg_stat_database',),\n",
       " ('pg_stat_database_conflicts',),\n",
       " ('pg_stat_user_functions',),\n",
       " ('pg_stat_xact_user_functions',),\n",
       " ('pg_stat_archiver',),\n",
       " ('pg_stat_bgwriter',),\n",
       " ('pg_stat_progress_vacuum',),\n",
       " ('information_schema_catalog_name',),\n",
       " ('attributes',),\n",
       " ('applicable_roles',),\n",
       " ('administrable_role_authorizations',),\n",
       " ('check_constraint_routine_usage',),\n",
       " ('character_sets',),\n",
       " ('check_constraints',),\n",
       " ('collations',),\n",
       " ('collation_character_set_applicability',),\n",
       " ('column_domain_usage',),\n",
       " ('column_privileges',),\n",
       " ('routine_privileges',),\n",
       " ('column_udt_usage',),\n",
       " ('columns',),\n",
       " ('constraint_column_usage',),\n",
       " ('role_routine_grants',),\n",
       " ('constraint_table_usage',),\n",
       " ('domain_constraints',),\n",
       " ('domain_udt_usage',),\n",
       " ('routines',),\n",
       " ('domains',),\n",
       " ('enabled_roles',),\n",
       " ('key_column_usage',),\n",
       " ('schemata',),\n",
       " ('parameters',),\n",
       " ('referential_constraints',),\n",
       " ('sql_languages',),\n",
       " ('role_column_grants',),\n",
       " ('sequences',),\n",
       " ('sql_features',),\n",
       " ('sql_implementation_info',),\n",
       " ('sql_packages',),\n",
       " ('sql_sizing',),\n",
       " ('sql_sizing_profiles',),\n",
       " ('view_routine_usage',),\n",
       " ('table_constraints',),\n",
       " ('table_privileges',),\n",
       " ('foreign_table_options',),\n",
       " ('role_table_grants',),\n",
       " ('view_table_usage',),\n",
       " ('tables',),\n",
       " ('triggered_update_columns',),\n",
       " ('foreign_data_wrappers',),\n",
       " ('triggers',),\n",
       " ('views',),\n",
       " ('udt_privileges',),\n",
       " ('role_udt_grants',),\n",
       " ('usage_privileges',),\n",
       " ('data_type_privileges',),\n",
       " ('role_usage_grants',),\n",
       " ('user_defined_types',),\n",
       " ('view_column_usage',),\n",
       " ('element_types',),\n",
       " ('column_options',),\n",
       " ('foreign_server_options',),\n",
       " ('foreign_data_wrapper_options',),\n",
       " ('user_mapping_options',),\n",
       " ('foreign_servers',),\n",
       " ('foreign_tables',),\n",
       " ('user_mappings',),\n",
       " ('investor_profile_investorprofile_time_horizons',),\n",
       " ('investor_profile_investorprofile',),\n",
       " ('investor_profile_investorprofile_uk_region_locations',),\n",
       " ('investor_profile_assetclassinterestsector',),\n",
       " ('company_list_companylist',),\n",
       " ('auth_permission',),\n",
       " ('investment_investmentproject_strategic_drivers',),\n",
       " ('django_content_type',),\n",
       " ('investment_investmentproject_business_activities',),\n",
       " ('investment_investmentproject_uk_region_locations',),\n",
       " ('auth_group_permissions',),\n",
       " ('investment_investmentproject_client_contacts',),\n",
       " ('metadata_team',),\n",
       " ('auth_group',),\n",
       " ('interaction_interactionditparticipant',),\n",
       " ('investment_investmentproject_competitor_countries',),\n",
       " ('investment_investmentsector',),\n",
       " ('investment_fdisicgrouping',),\n",
       " ('investment_gvamultiplier',),\n",
       " ('investment_investmentproject',),\n",
       " ('interaction_interaction',),\n",
       " ('interaction_interaction_contacts',),\n",
       " ('metadata_administrativearea',),\n",
       " ('investment_investmentactivitytype',),\n",
       " ('investment_investmentactivity',),\n",
       " ('investor_profile_investorprofile_asset_classes_of_interest',),\n",
       " ('investor_profile_constructionrisk',),\n",
       " ('investor_profile_investorprofile_construction_risks',),\n",
       " ('investor_profile_dealticketsize',),\n",
       " ('investor_profile_desireddealrole',),\n",
       " ('investor_profile_investorprofile_deal_ticket_sizes',),\n",
       " ('investor_profile_largecapitalinvestmenttype',),\n",
       " ('investor_profile_investorprofile_desired_deal_roles',),\n",
       " ('investor_profile_investorprofile_investment_types',),\n",
       " ('company_advisor_user_permissions',),\n",
       " ('company_onelisttier',),\n",
       " ('investor_profile_investortype',),\n",
       " ('company_company_export_to_countries',),\n",
       " ('company_advisor_groups',),\n",
       " ('company_exportexperiencecategory',),\n",
       " ('company_company_future_interest_countries',),\n",
       " ('django_admin_log',),\n",
       " ('company_onelistcoreteammember',),\n",
       " ('company_companieshousecompany',),\n",
       " ('company_contact',),\n",
       " ('investor_profile_equitypercentage',),\n",
       " ('django_migrations',),\n",
       " ('django_session',),\n",
       " ('dnb_match_dnbmatchingcsvrecord',),\n",
       " ('event_programme',),\n",
       " ('event_eventtype',),\n",
       " ('evidence_evidencedocument',),\n",
       " ('event_event_teams',),\n",
       " ('documents_document',),\n",
       " ('event_locationtype',),\n",
       " ('dnb_match_dnbmatchingresult',),\n",
       " ('evidence_evidencetag',),\n",
       " ('feature_flag_featureflag',),\n",
       " ('event_event',),\n",
       " ('event_event_related_programmes',),\n",
       " ('investor_profile_returnrate',),\n",
       " ('evidence_evidencedocument_tags',),\n",
       " ('interaction_policyarea',),\n",
       " ('investment_investmentprojectcode',),\n",
       " ('interaction_policyissuetype',),\n",
       " ('interaction_servicedeliverystatus',),\n",
       " ('investment_investmentdeliverypartner',),\n",
       " ('company_advisor',),\n",
       " ('investment_investmentproject_actual_uk_regions',),\n",
       " ('interaction_interaction_policy_areas',),\n",
       " ('interaction_communicationchannel',),\n",
       " ('investment_investmentprojectstagelog',),\n",
       " ('interaction_interaction_policy_issue_types',),\n",
       " ('investment_investmentproject_delivery_partners',),\n",
       " ('investment_likelihoodtoland',),\n",
       " ('investment_projectmanagerrequeststatus',),\n",
       " ('investment_specificprogramme',),\n",
       " ('investment_involvement',),\n",
       " ('metadata_employeerange',),\n",
       " ('metadata_fditype',),\n",
       " ('investment_investortype',),\n",
       " ('metadata_businesstype',),\n",
       " ('investment_investmentprojectteammember',),\n",
       " ('metadata_headquartertype',),\n",
       " ('metadata_fdivalue',),\n",
       " ('metadata_investmentprojectstage',),\n",
       " ('metadata_investmentbusinessactivity',),\n",
       " ('metadata_investmentstrategicdriver',),\n",
       " ('investor_profile_investorprofile_other_countries_being_cons84de',),\n",
       " ('metadata_sectorcluster',),\n",
       " ('metadata_salaryrange',),\n",
       " ('metadata_turnoverrange',),\n",
       " ('metadata_investmenttype',),\n",
       " ('metadata_overseasregion',),\n",
       " ('metadata_teamrole',),\n",
       " ('metadata_teamrole_groups',),\n",
       " ('metadata_sector',),\n",
       " ('metadata_referralsourceactivity',),\n",
       " ('metadata_title',),\n",
       " ('metadata_referralsourcewebsite',),\n",
       " ('metadata_referralsourcemarketing',),\n",
       " ('omis-payment_refund',),\n",
       " ('oauth2_provider_grant',),\n",
       " ('oauth2_provider_accesstoken',),\n",
       " ('oauth2_provider_application',),\n",
       " ('omis-market_market',),\n",
       " ('omis-quote_quote',),\n",
       " ('omis-quote_termsandconditions',),\n",
       " ('omis-invoice_invoice',),\n",
       " ('omis-payment_paymentgatewaysession',),\n",
       " ('omis-region_ukregionalsettings',),\n",
       " ('omis-payment_payment',),\n",
       " ('omis-order_hourlyrate',),\n",
       " ('investor_profile_profiletype',),\n",
       " ('oauth_oauthapplicationscope',),\n",
       " ('oauth2_provider_refreshtoken',),\n",
       " ('report_spireport',),\n",
       " ('user_event_log_userevent',),\n",
       " ('order_order_service_types',),\n",
       " ('reversion_revision',),\n",
       " ('proposition_proposition',),\n",
       " ('proposition_propositiondocument',),\n",
       " ('investor_profile_requiredchecksconducted',),\n",
       " ('order_order',),\n",
       " ('order_servicetype',),\n",
       " ('reversion_version',),\n",
       " ('order_orderassignee',),\n",
       " ('order_ordersubscriber',),\n",
       " ('order_cancellationreason',),\n",
       " ('investor_profile_restriction',),\n",
       " ('investor_profile_investorprofile_restrictions',),\n",
       " ('company_company',),\n",
       " ('investor_profile_assetclassinterest',),\n",
       " ('investor_profile_largecapitalinvestorprofile_asset_classes_6eb3',),\n",
       " ('investor_profile_largecapitalinvestorprofile_construction_risks',),\n",
       " ('investor_profile_largecapitalinvestorprofile_deal_ticket_sizes',),\n",
       " ('investor_profile_largecapitalinvestorprofile_desired_deal_roles',),\n",
       " ('investor_profile_largecapitalinvestorprofile_investment_types',),\n",
       " ('metadata_country',),\n",
       " ('investor_profile_largecapitalinvestorprofile_other_countrie8ce0',),\n",
       " ('investor_profile_largecapitalinvestorprofile_restrictions',),\n",
       " ('investor_profile_timehorizon',),\n",
       " ('investor_profile_largecapitalinvestorprofile_time_horizons',),\n",
       " ('investor_profile_largecapitalinvestorprofile',),\n",
       " ('metadata_ukregion',),\n",
       " ('investor_profile_largecapitalinvestorprofile_uk_region_loca4ce4',),\n",
       " ('interaction_servicequestion',),\n",
       " ('interaction_serviceansweroption',),\n",
       " ('interaction_serviceadditionalquestion',),\n",
       " ('company_list_companylistitem',),\n",
       " ('metadata_service',)]"
      ]
     },
     "execution_count": 30,
     "metadata": {},
     "output_type": "execute_result"
    }
   ],
   "source": [
    "sql = ''' select table_name from information_schema.tables '''\n",
    "cursor.execute(sql)\n",
    "cursor.fetchall()"
   ]
  },
  {
   "cell_type": "markdown",
   "metadata": {},
   "source": [
    "#### information_schema.tables column_names"
   ]
  },
  {
   "cell_type": "code",
   "execution_count": 48,
   "metadata": {},
   "outputs": [
    {
     "data": {
      "text/plain": [
       "[('table_catalog',),\n",
       " ('table_schema',),\n",
       " ('table_name',),\n",
       " ('table_type',),\n",
       " ('self_referencing_column_name',),\n",
       " ('reference_generation',),\n",
       " ('user_defined_type_catalog',),\n",
       " ('user_defined_type_schema',),\n",
       " ('user_defined_type_name',),\n",
       " ('is_insertable_into',),\n",
       " ('is_typed',),\n",
       " ('commit_action',)]"
      ]
     },
     "execution_count": 48,
     "metadata": {},
     "output_type": "execute_result"
    }
   ],
   "source": [
    "sql = ''' select column_name from information_schema.columns where table_name='tables' and table_schema='information_schema' '''\n",
    "cursor.execute(sql)\n",
    "cursor.fetchall()"
   ]
  },
  {
   "cell_type": "markdown",
   "metadata": {},
   "source": [
    "#### schemas"
   ]
  },
  {
   "cell_type": "code",
   "execution_count": 49,
   "metadata": {},
   "outputs": [
    {
     "data": {
      "text/plain": [
       "[('public',), ('pg_catalog',), ('information_schema',)]"
      ]
     },
     "execution_count": 49,
     "metadata": {},
     "output_type": "execute_result"
    }
   ],
   "source": [
    "sql = ''' select distinct(table_schema) from information_schema.tables '''\n",
    "cursor.execute(sql)\n",
    "cursor.fetchall()"
   ]
  },
  {
   "cell_type": "markdown",
   "metadata": {},
   "source": [
    "#### tables in the public schema"
   ]
  },
  {
   "cell_type": "code",
   "execution_count": null,
   "metadata": {
    "collapsed": true
   },
   "outputs": [],
   "source": []
  },
  {
   "cell_type": "code",
   "execution_count": null,
   "metadata": {
    "collapsed": true
   },
   "outputs": [],
   "source": []
  }
 ],
 "metadata": {
  "kernelspec": {
   "display_name": "Python 3",
   "language": "python",
   "name": "python3"
  },
  "language_info": {
   "codemirror_mode": {
    "name": "ipython",
    "version": 3
   },
   "file_extension": ".py",
   "mimetype": "text/x-python",
   "name": "python",
   "nbconvert_exporter": "python",
   "pygments_lexer": "ipython3",
   "version": "3.6.3"
  }
 },
 "nbformat": 4,
 "nbformat_minor": 2
}
