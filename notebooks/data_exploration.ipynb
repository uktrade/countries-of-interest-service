{
 "cells": [
  {
   "cell_type": "code",
   "execution_count": 188,
   "metadata": {
    "collapsed": true
   },
   "outputs": [],
   "source": [
    "%matplotlib inline\n",
    "from utils.conduit import conduit_connect\n",
    "from utils.sql import query_database"
   ]
  },
  {
   "cell_type": "code",
   "execution_count": 189,
   "metadata": {
    "collapsed": true
   },
   "outputs": [],
   "source": [
    "import matplotlib.pyplot as plt, pandas as pd"
   ]
  },
  {
   "cell_type": "code",
   "execution_count": 250,
   "metadata": {},
   "outputs": [
    {
     "name": "stdout",
     "output_type": "stream",
     "text": [
      "logged in\n",
      "conduit is already running\n",
      "processes: [11751, 11754]\n",
      "\u001b[31mconnecting to database\u001b[0m\n",
      "\u001b[32mconnected\u001b[0m\n"
     ]
    }
   ],
   "source": [
    "connection = conduit_connect('datahub-dev-db', 'datahub-dev')"
   ]
  },
  {
   "cell_type": "markdown",
   "metadata": {},
   "source": [
    "## how many companies in datahub have a corresponding companies house company number?"
   ]
  },
  {
   "cell_type": "code",
   "execution_count": 239,
   "metadata": {},
   "outputs": [
    {
     "data": {
      "text/html": [
       "<div>\n",
       "<style>\n",
       "    .dataframe thead tr:only-child th {\n",
       "        text-align: right;\n",
       "    }\n",
       "\n",
       "    .dataframe thead th {\n",
       "        text-align: left;\n",
       "    }\n",
       "\n",
       "    .dataframe tbody tr th {\n",
       "        vertical-align: top;\n",
       "    }\n",
       "</style>\n",
       "<table border=\"1\" class=\"dataframe\">\n",
       "  <thead>\n",
       "    <tr style=\"text-align: right;\">\n",
       "      <th></th>\n",
       "      <th>n_companies</th>\n",
       "      <th>n_matches</th>\n",
       "      <th>n_duplicates</th>\n",
       "      <th>n_unique_matches</th>\n",
       "    </tr>\n",
       "  </thead>\n",
       "  <tbody>\n",
       "    <tr>\n",
       "      <th>0</th>\n",
       "      <td>100391</td>\n",
       "      <td>10715</td>\n",
       "      <td>531</td>\n",
       "      <td>10184</td>\n",
       "    </tr>\n",
       "  </tbody>\n",
       "</table>\n",
       "</div>"
      ],
      "text/plain": [
       "   n_companies  n_matches n_duplicates n_unique_matches\n",
       "0       100391      10715          531            10184"
      ]
     },
     "execution_count": 239,
     "metadata": {},
     "output_type": "execute_result"
    }
   ],
   "source": [
    "sql = '''\n",
    "with matched_companies as (\n",
    "    select\n",
    "        id,\n",
    "        company_number\n",
    "        \n",
    "    from company_company\n",
    "    \n",
    "    where company_number is not null\n",
    "        and company_number not in ('', 'NotRegis', 'n/a', 'Not reg', 'N/A')\n",
    "\n",
    "), n_companies as (\n",
    "    select\n",
    "        count(id)\n",
    "        \n",
    "    from company_company\n",
    "    \n",
    "), duplicates as (\n",
    "    select\n",
    "        company_number,\n",
    "        count(1)\n",
    "\n",
    "    from matched_companies\n",
    "\n",
    "    group by 1\n",
    "    \n",
    "    having count(1) > 1\n",
    "\n",
    "), n_duplicates as (\n",
    "    select\n",
    "        sum(count) as count\n",
    "        \n",
    "    from duplicates\n",
    "    \n",
    "), n_matches as (\n",
    "    select\n",
    "        count(1)\n",
    "        \n",
    "    from matched_companies\n",
    "    \n",
    "), results as (\n",
    "    select\n",
    "        n_companies.count as n_companies,\n",
    "        n_matches.count as n_matches,\n",
    "        n_duplicates.count as n_duplicates,\n",
    "        n_matches.count - n_duplicates.count as n_unique_matches\n",
    "      \n",
    "    from n_companies join n_matches on 1=1\n",
    "        join n_duplicates on 1=1\n",
    "        \n",
    ")\n",
    "\n",
    "select * from results\n",
    "\n",
    "'''\n",
    "\n",
    "df = query_database(connection, sql)\n",
    "df.head()"
   ]
  },
  {
   "cell_type": "code",
   "execution_count": 226,
   "metadata": {},
   "outputs": [
    {
     "data": {
      "text/html": [
       "<div>\n",
       "<style>\n",
       "    .dataframe thead tr:only-child th {\n",
       "        text-align: right;\n",
       "    }\n",
       "\n",
       "    .dataframe thead th {\n",
       "        text-align: left;\n",
       "    }\n",
       "\n",
       "    .dataframe tbody tr th {\n",
       "        vertical-align: top;\n",
       "    }\n",
       "</style>\n",
       "<table border=\"1\" class=\"dataframe\">\n",
       "  <thead>\n",
       "    <tr style=\"text-align: right;\">\n",
       "      <th></th>\n",
       "      <th>count</th>\n",
       "      <th>test</th>\n",
       "    </tr>\n",
       "  </thead>\n",
       "  <tbody>\n",
       "    <tr>\n",
       "      <th>0</th>\n",
       "      <td>100391</td>\n",
       "      <td>2</td>\n",
       "    </tr>\n",
       "  </tbody>\n",
       "</table>\n",
       "</div>"
      ],
      "text/plain": [
       "    count  test\n",
       "0  100391     2"
      ]
     },
     "execution_count": 226,
     "metadata": {},
     "output_type": "execute_result"
    }
   ],
   "source": [
    "sql = '''\n",
    "with n_companies as (\n",
    "    select\n",
    "        count(id)\n",
    "        \n",
    "    from company_company\n",
    "    \n",
    "), y as (\n",
    "    select\n",
    "        2 as test\n",
    ")\n",
    "\n",
    "select * from n_companies join y on 1=1\n",
    "'''\n",
    "\n",
    "df = query_database(connection, sql)\n",
    "df.head()"
   ]
  },
  {
   "cell_type": "code",
   "execution_count": 205,
   "metadata": {},
   "outputs": [
    {
     "data": {
      "text/html": [
       "<div>\n",
       "<style>\n",
       "    .dataframe thead tr:only-child th {\n",
       "        text-align: right;\n",
       "    }\n",
       "\n",
       "    .dataframe thead th {\n",
       "        text-align: left;\n",
       "    }\n",
       "\n",
       "    .dataframe tbody tr th {\n",
       "        vertical-align: top;\n",
       "    }\n",
       "</style>\n",
       "<table border=\"1\" class=\"dataframe\">\n",
       "  <thead>\n",
       "    <tr style=\"text-align: right;\">\n",
       "      <th></th>\n",
       "      <th>count</th>\n",
       "    </tr>\n",
       "  </thead>\n",
       "  <tbody>\n",
       "    <tr>\n",
       "      <th>0</th>\n",
       "      <td>100391</td>\n",
       "    </tr>\n",
       "  </tbody>\n",
       "</table>\n",
       "</div>"
      ],
      "text/plain": [
       "    count\n",
       "0  100391"
      ]
     },
     "execution_count": 205,
     "metadata": {},
     "output_type": "execute_result"
    }
   ],
   "source": [
    "sql = '''\n",
    "select\n",
    "    count(id)\n",
    "        \n",
    "from company_company\n",
    "'''\n",
    "\n",
    "df = query_database(connection, sql)\n",
    "df"
   ]
  },
  {
   "cell_type": "code",
   "execution_count": 204,
   "metadata": {},
   "outputs": [
    {
     "data": {
      "text/plain": [
       "str"
      ]
     },
     "execution_count": 204,
     "metadata": {},
     "output_type": "execute_result"
    }
   ],
   "source": [
    "type(rows[0][0])"
   ]
  },
  {
   "cell_type": "code",
   "execution_count": 155,
   "metadata": {},
   "outputs": [
    {
     "data": {
      "text/html": [
       "<div>\n",
       "<style>\n",
       "    .dataframe thead tr:only-child th {\n",
       "        text-align: right;\n",
       "    }\n",
       "\n",
       "    .dataframe thead th {\n",
       "        text-align: left;\n",
       "    }\n",
       "\n",
       "    .dataframe tbody tr th {\n",
       "        vertical-align: top;\n",
       "    }\n",
       "</style>\n",
       "<table border=\"1\" class=\"dataframe\">\n",
       "  <thead>\n",
       "    <tr style=\"text-align: right;\">\n",
       "      <th></th>\n",
       "      <th>n_matched</th>\n",
       "    </tr>\n",
       "  </thead>\n",
       "  <tbody>\n",
       "    <tr>\n",
       "      <th>0</th>\n",
       "      <td>10714</td>\n",
       "    </tr>\n",
       "  </tbody>\n",
       "</table>\n",
       "</div>"
      ],
      "text/plain": [
       "   n_matched\n",
       "0      10714"
      ]
     },
     "execution_count": 155,
     "metadata": {},
     "output_type": "execute_result"
    }
   ],
   "source": [
    "sql = '''\n",
    "select\n",
    "    count(company_number) as n_matched\n",
    "    \n",
    "from company_company\n",
    "\n",
    "where company_number is not null\n",
    "    and company_number != ''\n",
    "    and company_number not in ('NotRegis', 'n/a', 'Not reg', 'N/A')\n",
    "\n",
    "'''\n",
    "\n",
    "df = query_database(connection, sql)\n",
    "n_matched = df['n_matched'].values[0]\n",
    "df"
   ]
  },
  {
   "cell_type": "code",
   "execution_count": 156,
   "metadata": {},
   "outputs": [
    {
     "data": {
      "text/html": [
       "<div>\n",
       "<style>\n",
       "    .dataframe thead tr:only-child th {\n",
       "        text-align: right;\n",
       "    }\n",
       "\n",
       "    .dataframe thead th {\n",
       "        text-align: left;\n",
       "    }\n",
       "\n",
       "    .dataframe tbody tr th {\n",
       "        vertical-align: top;\n",
       "    }\n",
       "</style>\n",
       "<table border=\"1\" class=\"dataframe\">\n",
       "  <thead>\n",
       "    <tr style=\"text-align: right;\">\n",
       "      <th></th>\n",
       "      <th>n_companies</th>\n",
       "    </tr>\n",
       "  </thead>\n",
       "  <tbody>\n",
       "    <tr>\n",
       "      <th>0</th>\n",
       "      <td>100390</td>\n",
       "    </tr>\n",
       "  </tbody>\n",
       "</table>\n",
       "</div>"
      ],
      "text/plain": [
       "   n_companies\n",
       "0       100390"
      ]
     },
     "execution_count": 156,
     "metadata": {},
     "output_type": "execute_result"
    }
   ],
   "source": [
    "sql = '''\n",
    "select\n",
    "    count(1) as n_companies\n",
    "    \n",
    "from company_company\n",
    "  \n",
    "'''\n",
    "\n",
    "df = query_database(connection, sql)\n",
    "n_companies = df['n_companies'].values[0]\n",
    "df.head()"
   ]
  },
  {
   "cell_type": "code",
   "execution_count": 124,
   "metadata": {},
   "outputs": [
    {
     "data": {
      "text/html": [
       "<div>\n",
       "<style>\n",
       "    .dataframe thead tr:only-child th {\n",
       "        text-align: right;\n",
       "    }\n",
       "\n",
       "    .dataframe thead th {\n",
       "        text-align: left;\n",
       "    }\n",
       "\n",
       "    .dataframe tbody tr th {\n",
       "        vertical-align: top;\n",
       "    }\n",
       "</style>\n",
       "<table border=\"1\" class=\"dataframe\">\n",
       "  <thead>\n",
       "    <tr style=\"text-align: right;\">\n",
       "      <th></th>\n",
       "      <th>count</th>\n",
       "      <th>percent</th>\n",
       "    </tr>\n",
       "  </thead>\n",
       "  <tbody>\n",
       "    <tr>\n",
       "      <th>n_matched</th>\n",
       "      <td>10714</td>\n",
       "      <td>10.672378</td>\n",
       "    </tr>\n",
       "    <tr>\n",
       "      <th>n_companies</th>\n",
       "      <td>100390</td>\n",
       "      <td>100.000000</td>\n",
       "    </tr>\n",
       "  </tbody>\n",
       "</table>\n",
       "</div>"
      ],
      "text/plain": [
       "              count     percent\n",
       "n_matched     10714   10.672378\n",
       "n_companies  100390  100.000000"
      ]
     },
     "execution_count": 124,
     "metadata": {},
     "output_type": "execute_result"
    }
   ],
   "source": [
    "index = ['n_matched', 'n_companies']\n",
    "columns = ['count']\n",
    "values = [(n_matched,), (n_companies,)]\n",
    "df = pd.DataFrame(values, index=index, columns=columns)\n",
    "df['percent'] = 100 * df['count'] / n_companies\n",
    "df"
   ]
  },
  {
   "cell_type": "markdown",
   "metadata": {},
   "source": [
    "## how many companies in datahub are linked to the same companies house company number? i.e. are duplicates of the same company"
   ]
  },
  {
   "cell_type": "code",
   "execution_count": 126,
   "metadata": {},
   "outputs": [
    {
     "data": {
      "text/html": [
       "<div>\n",
       "<style>\n",
       "    .dataframe thead tr:only-child th {\n",
       "        text-align: right;\n",
       "    }\n",
       "\n",
       "    .dataframe thead th {\n",
       "        text-align: left;\n",
       "    }\n",
       "\n",
       "    .dataframe tbody tr th {\n",
       "        vertical-align: top;\n",
       "    }\n",
       "</style>\n",
       "<table border=\"1\" class=\"dataframe\">\n",
       "  <thead>\n",
       "    <tr style=\"text-align: right;\">\n",
       "      <th></th>\n",
       "      <th>n_duplicates</th>\n",
       "    </tr>\n",
       "  </thead>\n",
       "  <tbody>\n",
       "    <tr>\n",
       "      <th>0</th>\n",
       "      <td>531</td>\n",
       "    </tr>\n",
       "  </tbody>\n",
       "</table>\n",
       "</div>"
      ],
      "text/plain": [
       "  n_duplicates\n",
       "0          531"
      ]
     },
     "execution_count": 126,
     "metadata": {},
     "output_type": "execute_result"
    }
   ],
   "source": [
    "sql = '''\n",
    "with matched_companies as (\n",
    "    select\n",
    "        id,\n",
    "        company_number\n",
    "\n",
    "    from company_company\n",
    "\n",
    "    where company_number is not null\n",
    "        and company_number != ''\n",
    "        and company_number not in ('NotRegis', 'n/a', 'Not reg', 'N/A')\n",
    "    \n",
    "), duplicates as (\n",
    "    select\n",
    "        company_number,\n",
    "        count(1)\n",
    "        \n",
    "    from matched_companies\n",
    "    \n",
    "    group by 1\n",
    "    \n",
    "    having count(1) > 1\n",
    "    \n",
    ")\n",
    "\n",
    "select sum(count) as n_duplicates from duplicates \n",
    "\n",
    "'''\n",
    "\n",
    "df = query_database(connection, sql)\n",
    "n_duplicates = df['n_duplicates'].values[0]\n",
    "df"
   ]
  },
  {
   "cell_type": "code",
   "execution_count": 132,
   "metadata": {},
   "outputs": [
    {
     "data": {
      "text/html": [
       "<div>\n",
       "<style>\n",
       "    .dataframe thead tr:only-child th {\n",
       "        text-align: right;\n",
       "    }\n",
       "\n",
       "    .dataframe thead th {\n",
       "        text-align: left;\n",
       "    }\n",
       "\n",
       "    .dataframe tbody tr th {\n",
       "        vertical-align: top;\n",
       "    }\n",
       "</style>\n",
       "<table border=\"1\" class=\"dataframe\">\n",
       "  <thead>\n",
       "    <tr style=\"text-align: right;\">\n",
       "      <th></th>\n",
       "      <th>count</th>\n",
       "      <th>percent</th>\n",
       "    </tr>\n",
       "  </thead>\n",
       "  <tbody>\n",
       "    <tr>\n",
       "      <th>unique_match</th>\n",
       "      <td>10183</td>\n",
       "      <td>95.044</td>\n",
       "    </tr>\n",
       "    <tr>\n",
       "      <th>duplicate</th>\n",
       "      <td>531</td>\n",
       "      <td>4.956</td>\n",
       "    </tr>\n",
       "  </tbody>\n",
       "</table>\n",
       "</div>"
      ],
      "text/plain": [
       "              count percent\n",
       "unique_match  10183  95.044\n",
       "duplicate       531   4.956"
      ]
     },
     "execution_count": 132,
     "metadata": {},
     "output_type": "execute_result"
    }
   ],
   "source": [
    "index = ['unique_match', 'duplicate']\n",
    "columns = ['count']\n",
    "values = [\n",
    "    (n_matched - n_duplicates,),\n",
    "    (n_duplicates,),\n",
    "]\n",
    "df = pd.DataFrame(values, columns=columns, index=index)\n",
    "df['percent'] = 100 * df['count'] / n_matched\n",
    "df['percent'] = df['percent'].map(lambda x: '{:.3f}'.format(x))\n",
    "df"
   ]
  },
  {
   "cell_type": "code",
   "execution_count": 131,
   "metadata": {},
   "outputs": [
    {
     "data": {
      "text/html": [
       "<div>\n",
       "<style>\n",
       "    .dataframe thead tr:only-child th {\n",
       "        text-align: right;\n",
       "    }\n",
       "\n",
       "    .dataframe thead th {\n",
       "        text-align: left;\n",
       "    }\n",
       "\n",
       "    .dataframe tbody tr th {\n",
       "        vertical-align: top;\n",
       "    }\n",
       "</style>\n",
       "<table border=\"1\" class=\"dataframe\">\n",
       "  <thead>\n",
       "    <tr style=\"text-align: right;\">\n",
       "      <th></th>\n",
       "      <th>count</th>\n",
       "      <th>percent</th>\n",
       "    </tr>\n",
       "  </thead>\n",
       "  <tbody>\n",
       "    <tr>\n",
       "      <th>unique_match</th>\n",
       "      <td>10183</td>\n",
       "      <td>10.143</td>\n",
       "    </tr>\n",
       "    <tr>\n",
       "      <th>duplicate</th>\n",
       "      <td>531</td>\n",
       "      <td>0.529</td>\n",
       "    </tr>\n",
       "    <tr>\n",
       "      <th>unmatched</th>\n",
       "      <td>89676</td>\n",
       "      <td>89.328</td>\n",
       "    </tr>\n",
       "  </tbody>\n",
       "</table>\n",
       "</div>"
      ],
      "text/plain": [
       "              count percent\n",
       "unique_match  10183  10.143\n",
       "duplicate       531   0.529\n",
       "unmatched     89676  89.328"
      ]
     },
     "execution_count": 131,
     "metadata": {},
     "output_type": "execute_result"
    }
   ],
   "source": [
    "index = ['unique_match', 'duplicate', 'unmatched']\n",
    "columns = ['count']\n",
    "values = [\n",
    "    (n_matched - n_duplicates,),\n",
    "    (n_duplicates,),\n",
    "    (n_companies - n_matched,)\n",
    "]\n",
    "df = pd.DataFrame(values, columns=columns, index=index)\n",
    "df['percent'] = 100 * df['count'] / n_companies\n",
    "df['percent'] = df['percent'].map(lambda x: '{:.3f}'.format(x))\n",
    "df"
   ]
  },
  {
   "cell_type": "markdown",
   "metadata": {},
   "source": [
    "## how many companies in datahub have sector data"
   ]
  },
  {
   "cell_type": "code",
   "execution_count": 247,
   "metadata": {},
   "outputs": [
    {
     "data": {
      "text/html": [
       "<div>\n",
       "<style>\n",
       "    .dataframe thead tr:only-child th {\n",
       "        text-align: right;\n",
       "    }\n",
       "\n",
       "    .dataframe thead th {\n",
       "        text-align: left;\n",
       "    }\n",
       "\n",
       "    .dataframe tbody tr th {\n",
       "        vertical-align: top;\n",
       "    }\n",
       "</style>\n",
       "<table border=\"1\" class=\"dataframe\">\n",
       "  <thead>\n",
       "    <tr style=\"text-align: right;\">\n",
       "      <th></th>\n",
       "      <th>n_companies</th>\n",
       "      <th>n_sectors</th>\n",
       "      <th>n_matched_companies</th>\n",
       "      <th>timestamp</th>\n",
       "    </tr>\n",
       "  </thead>\n",
       "  <tbody>\n",
       "    <tr>\n",
       "      <th>0</th>\n",
       "      <td>100391</td>\n",
       "      <td>249</td>\n",
       "      <td>96705</td>\n",
       "      <td>2019-10-09 16:11:52.411851</td>\n",
       "    </tr>\n",
       "  </tbody>\n",
       "</table>\n",
       "</div>"
      ],
      "text/plain": [
       "   n_companies  n_sectors  n_matched_companies                   timestamp\n",
       "0       100391        249                96705  2019-10-09 16:11:52.411851"
      ]
     },
     "execution_count": 247,
     "metadata": {},
     "output_type": "execute_result"
    }
   ],
   "source": [
    "import datetime\n",
    "\n",
    "now = datetime.datetime.now()\n",
    "\n",
    "sql = '''\n",
    "with n_companies as (\n",
    "    select\n",
    "        count(id) as n_companies\n",
    "        \n",
    "    from company_company\n",
    "    \n",
    "), n_sectors as (\n",
    "    select\n",
    "        count(distinct sector_id) as n_sectors\n",
    "        \n",
    "    from company_company\n",
    "    \n",
    "), n_matched_companies as (\n",
    "    select\n",
    "        count(sector_id) as n_matched_companies\n",
    "        \n",
    "    from company_company\n",
    "        \n",
    "), results as (\n",
    "    select\n",
    "        n_companies,\n",
    "        n_sectors,\n",
    "        n_matched_companies,\n",
    "        '{now}' as timestamp\n",
    "        \n",
    "    from n_companies join n_sectors on 1=1\n",
    "        join n_matched_companies on 1=1\n",
    "        \n",
    ")\n",
    "\n",
    "select * from results\n",
    "\n",
    "'''.format(now=now)\n",
    "\n",
    "df = query_database(connection, sql)\n",
    "df.head()"
   ]
  },
  {
   "cell_type": "code",
   "execution_count": 148,
   "metadata": {},
   "outputs": [
    {
     "data": {
      "text/html": [
       "<div>\n",
       "<style>\n",
       "    .dataframe thead tr:only-child th {\n",
       "        text-align: right;\n",
       "    }\n",
       "\n",
       "    .dataframe thead th {\n",
       "        text-align: left;\n",
       "    }\n",
       "\n",
       "    .dataframe tbody tr th {\n",
       "        vertical-align: top;\n",
       "    }\n",
       "</style>\n",
       "<table border=\"1\" class=\"dataframe\">\n",
       "  <thead>\n",
       "    <tr style=\"text-align: right;\">\n",
       "      <th></th>\n",
       "      <th>n_companies_with_sector_data</th>\n",
       "      <th>n_companies</th>\n",
       "      <th>percent_with_sector</th>\n",
       "    </tr>\n",
       "  </thead>\n",
       "  <tbody>\n",
       "    <tr>\n",
       "      <th>0</th>\n",
       "      <td>96705</td>\n",
       "      <td>100390</td>\n",
       "      <td>96.329316</td>\n",
       "    </tr>\n",
       "  </tbody>\n",
       "</table>\n",
       "</div>"
      ],
      "text/plain": [
       "   n_companies_with_sector_data  n_companies  percent_with_sector\n",
       "0                         96705       100390            96.329316"
      ]
     },
     "execution_count": 148,
     "metadata": {},
     "output_type": "execute_result"
    }
   ],
   "source": [
    "sql = ''' \n",
    "select\n",
    "    count(sector_id) as n_companies_with_sector_data,\n",
    "    count(1) as n_companies\n",
    "\n",
    "from company_company\n",
    "\n",
    "'''\n",
    "df = query_database(connection, sql)\n",
    "df['percent_with_sector'] = 100 * df['n_companies_with_sector_data'] / df['n_companies']\n",
    "df.head()"
   ]
  },
  {
   "cell_type": "markdown",
   "metadata": {},
   "source": [
    "### top sectors"
   ]
  },
  {
   "cell_type": "code",
   "execution_count": null,
   "metadata": {
    "collapsed": true
   },
   "outputs": [],
   "source": []
  },
  {
   "cell_type": "code",
   "execution_count": 149,
   "metadata": {},
   "outputs": [
    {
     "data": {
      "text/html": [
       "<div>\n",
       "<style>\n",
       "    .dataframe thead tr:only-child th {\n",
       "        text-align: right;\n",
       "    }\n",
       "\n",
       "    .dataframe thead th {\n",
       "        text-align: left;\n",
       "    }\n",
       "\n",
       "    .dataframe tbody tr th {\n",
       "        vertical-align: top;\n",
       "    }\n",
       "</style>\n",
       "<table border=\"1\" class=\"dataframe\">\n",
       "  <thead>\n",
       "    <tr style=\"text-align: right;\">\n",
       "      <th></th>\n",
       "      <th>segment</th>\n",
       "      <th>n_companies</th>\n",
       "    </tr>\n",
       "  </thead>\n",
       "  <tbody>\n",
       "    <tr>\n",
       "      <th>0</th>\n",
       "      <td>Retail</td>\n",
       "      <td>41039</td>\n",
       "    </tr>\n",
       "    <tr>\n",
       "      <th>1</th>\n",
       "      <td>ICT</td>\n",
       "      <td>8835</td>\n",
       "    </tr>\n",
       "    <tr>\n",
       "      <th>2</th>\n",
       "      <td>Software and Computer Services Business to Bus...</td>\n",
       "      <td>7446</td>\n",
       "    </tr>\n",
       "    <tr>\n",
       "      <th>3</th>\n",
       "      <td>Clothing, Footwear and Fashion</td>\n",
       "      <td>5232</td>\n",
       "    </tr>\n",
       "    <tr>\n",
       "      <th>4</th>\n",
       "      <td>Advanced Engineering</td>\n",
       "      <td>4069</td>\n",
       "    </tr>\n",
       "  </tbody>\n",
       "</table>\n",
       "</div>"
      ],
      "text/plain": [
       "                                             segment  n_companies\n",
       "0                                             Retail        41039\n",
       "1                                                ICT         8835\n",
       "2  Software and Computer Services Business to Bus...         7446\n",
       "3                     Clothing, Footwear and Fashion         5232\n",
       "4                               Advanced Engineering         4069"
      ]
     },
     "execution_count": 149,
     "metadata": {},
     "output_type": "execute_result"
    }
   ],
   "source": [
    "sql = '''\n",
    "with level_2 as (                                                                                                                                                                                           \n",
    "  select id, parent_id, segment from metadata_sector where level = 2                                                                                                                                        \n",
    "), level_1 as (                                                                                                                                                                                             \n",
    "  select id, parent_id, segment from metadata_sector where level = 1                                                                                                                                        \n",
    "), level_0 as (                                                                                                                                                                                             \n",
    "  select id, segment from metadata_sector where level = 0                                                                                                                                                   \n",
    "), level_012 as (                                                                                                                                                                                           \n",
    "  select                                                                                                                                                                                                    \n",
    "    l2.id,                                                                                                                                                                                                  \n",
    "    concat(l0.segment, ':', l1.segment, ':', l2.segment) as segment                                                                                                                                         \n",
    "                                                                                                                                                                                                            \n",
    "  from level_2 l2 join level_1 l1 on l2.parent_id = l1.id                                                                                                                                                   \n",
    "    join level_0 l0 on l1.parent_id = l0.id                                                                                                                                                                 \n",
    "                                                                                                                                                                                                            \n",
    "), level_01 as (                                                                                                                                                                                            \n",
    "  select                                                                                                                                                                                                    \n",
    "    l1.id,                                                                                                                                                                                                  \n",
    "    concat(l1.segment, ':', l0.segment) as segment                                                                                                                                                          \n",
    "                                                                                                                                                                                                            \n",
    "  from level_1 l1 join level_0 l0 on l1.parent_id = l0.id                                                                                                                                                   \n",
    "                                                                                                                                                                                                            \n",
    "), segments as (                                                                                                                                                                                             \n",
    "    select id, segment from level_0 union                                                                                                                                                                   \n",
    "    select id, segment from level_01 union                                                                                                                                                                  \n",
    "    select id, segment from level_012                                                                                                                                                                       \n",
    ")   \n",
    "\n",
    "select\n",
    "    segment,\n",
    "    count(1) as n_companies\n",
    "    \n",
    "from company_company l join segments r on l.sector_id = r.id\n",
    "\n",
    "where sector_id is not null\n",
    "\n",
    "group by 1\n",
    "\n",
    "order by 2 desc\n",
    "\n",
    "'''\n",
    "\n",
    "df = query_database(connection, sql)\n",
    "df.head()"
   ]
  },
  {
   "cell_type": "markdown",
   "metadata": {},
   "source": [
    "## how many companies in datahub have made orders?"
   ]
  },
  {
   "cell_type": "code",
   "execution_count": 257,
   "metadata": {},
   "outputs": [
    {
     "data": {
      "text/html": [
       "<div>\n",
       "<style>\n",
       "    .dataframe thead tr:only-child th {\n",
       "        text-align: right;\n",
       "    }\n",
       "\n",
       "    .dataframe thead th {\n",
       "        text-align: left;\n",
       "    }\n",
       "\n",
       "    .dataframe tbody tr th {\n",
       "        vertical-align: top;\n",
       "    }\n",
       "</style>\n",
       "<table border=\"1\" class=\"dataframe\">\n",
       "  <thead>\n",
       "    <tr style=\"text-align: right;\">\n",
       "      <th></th>\n",
       "      <th>n_companies</th>\n",
       "      <th>n_companies_with_orders</th>\n",
       "      <th>timestamp</th>\n",
       "      <th>percent</th>\n",
       "    </tr>\n",
       "  </thead>\n",
       "  <tbody>\n",
       "    <tr>\n",
       "      <th>n_companies</th>\n",
       "      <td>268</td>\n",
       "      <td>23</td>\n",
       "      <td>2019-10-10 10:37:17.755141</td>\n",
       "      <td>0.022911</td>\n",
       "    </tr>\n",
       "  </tbody>\n",
       "</table>\n",
       "</div>"
      ],
      "text/plain": [
       "             n_companies  n_companies_with_orders                  timestamp  \\\n",
       "n_companies          268                       23 2019-10-10 10:37:17.755141   \n",
       "\n",
       "              percent  \n",
       "n_companies  0.022911  "
      ]
     },
     "execution_count": 257,
     "metadata": {},
     "output_type": "execute_result"
    }
   ],
   "source": [
    "import datetime\n",
    "now = datetime.datetime.now()\n",
    "\n",
    "sql = '''\n",
    "select\n",
    "    count(distinct id) as n_companies,\n",
    "    count(distinct company_id) as n_companies_with_orders,\n",
    "    '{now}'::Timestamp\n",
    "    \n",
    "from order_order\n",
    "    \n",
    "'''.format(now=now)\n",
    "\n",
    "df = query_database(connection, sql)\n",
    "df.index = ['n_companies']\n",
    "df['percent'] = 100 * df['n_companies_with_orders'] / n_companies\n",
    "df"
   ]
  },
  {
   "cell_type": "code",
   "execution_count": 258,
   "metadata": {},
   "outputs": [
    {
     "data": {
      "text/plain": [
       "array([[268, 23, Timestamp('2019-10-10 10:37:17.755141'),\n",
       "        0.022910648470963243]], dtype=object)"
      ]
     },
     "execution_count": 258,
     "metadata": {},
     "output_type": "execute_result"
    }
   ],
   "source": [
    "df.values"
   ]
  },
  {
   "cell_type": "code",
   "execution_count": 262,
   "metadata": {},
   "outputs": [
    {
     "data": {
      "text/plain": [
       "[{'n_companies': 268,\n",
       "  'n_companies_with_orders': 23,\n",
       "  'percent': 0.022910648470963243,\n",
       "  'timestamp': Timestamp('2019-10-10 10:37:17.755141')}]"
      ]
     },
     "execution_count": 262,
     "metadata": {},
     "output_type": "execute_result"
    }
   ],
   "source": [
    "df.to_dict(orient='records')"
   ]
  },
  {
   "cell_type": "code",
   "execution_count": null,
   "metadata": {
    "collapsed": true
   },
   "outputs": [],
   "source": []
  },
  {
   "cell_type": "code",
   "execution_count": null,
   "metadata": {
    "collapsed": true
   },
   "outputs": [],
   "source": []
  },
  {
   "cell_type": "markdown",
   "metadata": {},
   "source": [
    "## how many companies in datahub have export countries field filled in?"
   ]
  },
  {
   "cell_type": "code",
   "execution_count": 169,
   "metadata": {},
   "outputs": [
    {
     "data": {
      "text/html": [
       "<div>\n",
       "<style>\n",
       "    .dataframe thead tr:only-child th {\n",
       "        text-align: right;\n",
       "    }\n",
       "\n",
       "    .dataframe thead th {\n",
       "        text-align: left;\n",
       "    }\n",
       "\n",
       "    .dataframe tbody tr th {\n",
       "        vertical-align: top;\n",
       "    }\n",
       "</style>\n",
       "<table border=\"1\" class=\"dataframe\">\n",
       "  <thead>\n",
       "    <tr style=\"text-align: right;\">\n",
       "      <th></th>\n",
       "      <th>table_name</th>\n",
       "    </tr>\n",
       "  </thead>\n",
       "  <tbody>\n",
       "    <tr>\n",
       "      <th>9</th>\n",
       "      <td>company_list_companylist</td>\n",
       "    </tr>\n",
       "    <tr>\n",
       "      <th>39</th>\n",
       "      <td>company_advisor_user_permissions</td>\n",
       "    </tr>\n",
       "    <tr>\n",
       "      <th>40</th>\n",
       "      <td>company_onelisttier</td>\n",
       "    </tr>\n",
       "    <tr>\n",
       "      <th>42</th>\n",
       "      <td>company_company_export_to_countries</td>\n",
       "    </tr>\n",
       "    <tr>\n",
       "      <th>43</th>\n",
       "      <td>company_advisor_groups</td>\n",
       "    </tr>\n",
       "    <tr>\n",
       "      <th>44</th>\n",
       "      <td>company_exportexperiencecategory</td>\n",
       "    </tr>\n",
       "    <tr>\n",
       "      <th>45</th>\n",
       "      <td>company_company_future_interest_countries</td>\n",
       "    </tr>\n",
       "    <tr>\n",
       "      <th>47</th>\n",
       "      <td>company_onelistcoreteammember</td>\n",
       "    </tr>\n",
       "    <tr>\n",
       "      <th>48</th>\n",
       "      <td>company_companieshousecompany</td>\n",
       "    </tr>\n",
       "    <tr>\n",
       "      <th>49</th>\n",
       "      <td>company_contact</td>\n",
       "    </tr>\n",
       "    <tr>\n",
       "      <th>72</th>\n",
       "      <td>company_advisor</td>\n",
       "    </tr>\n",
       "    <tr>\n",
       "      <th>136</th>\n",
       "      <td>company_company</td>\n",
       "    </tr>\n",
       "    <tr>\n",
       "      <th>154</th>\n",
       "      <td>company_list_companylistitem</td>\n",
       "    </tr>\n",
       "  </tbody>\n",
       "</table>\n",
       "</div>"
      ],
      "text/plain": [
       "                                    table_name\n",
       "9                     company_list_companylist\n",
       "39            company_advisor_user_permissions\n",
       "40                         company_onelisttier\n",
       "42         company_company_export_to_countries\n",
       "43                      company_advisor_groups\n",
       "44            company_exportexperiencecategory\n",
       "45   company_company_future_interest_countries\n",
       "47               company_onelistcoreteammember\n",
       "48               company_companieshousecompany\n",
       "49                             company_contact\n",
       "72                             company_advisor\n",
       "136                            company_company\n",
       "154               company_list_companylistitem"
      ]
     },
     "execution_count": 169,
     "metadata": {},
     "output_type": "execute_result"
    }
   ],
   "source": [
    "sql = ''' select table_name from information_schema.tables where table_schema='public' '''\n",
    "df = query_database(connection, sql)\n",
    "df[df['table_name'].str.startswith('company')]"
   ]
  },
  {
   "cell_type": "code",
   "execution_count": 170,
   "metadata": {},
   "outputs": [
    {
     "data": {
      "text/html": [
       "<div>\n",
       "<style>\n",
       "    .dataframe thead tr:only-child th {\n",
       "        text-align: right;\n",
       "    }\n",
       "\n",
       "    .dataframe thead th {\n",
       "        text-align: left;\n",
       "    }\n",
       "\n",
       "    .dataframe tbody tr th {\n",
       "        vertical-align: top;\n",
       "    }\n",
       "</style>\n",
       "<table border=\"1\" class=\"dataframe\">\n",
       "  <thead>\n",
       "    <tr style=\"text-align: right;\">\n",
       "      <th></th>\n",
       "      <th>count</th>\n",
       "      <th>percent</th>\n",
       "    </tr>\n",
       "  </thead>\n",
       "  <tbody>\n",
       "    <tr>\n",
       "      <th>n_companies</th>\n",
       "      <td>18</td>\n",
       "      <td>0.01793</td>\n",
       "    </tr>\n",
       "  </tbody>\n",
       "</table>\n",
       "</div>"
      ],
      "text/plain": [
       "             count  percent\n",
       "n_companies     18  0.01793"
      ]
     },
     "execution_count": 170,
     "metadata": {},
     "output_type": "execute_result"
    }
   ],
   "source": [
    "sql = '''\n",
    "select\n",
    "    count(distinct company_id)\n",
    "    \n",
    "from company_company_export_to_countries\n",
    "    \n",
    "'''\n",
    "\n",
    "df = query_database(connection, sql)\n",
    "df.index = ['n_companies']\n",
    "df['percent'] = 100 * df['count'] / n_companies\n",
    "df"
   ]
  },
  {
   "cell_type": "markdown",
   "metadata": {},
   "source": [
    "## how many companies in datahub have future countries of interest field filled in?"
   ]
  },
  {
   "cell_type": "code",
   "execution_count": 173,
   "metadata": {},
   "outputs": [
    {
     "data": {
      "text/html": [
       "<div>\n",
       "<style>\n",
       "    .dataframe thead tr:only-child th {\n",
       "        text-align: right;\n",
       "    }\n",
       "\n",
       "    .dataframe thead th {\n",
       "        text-align: left;\n",
       "    }\n",
       "\n",
       "    .dataframe tbody tr th {\n",
       "        vertical-align: top;\n",
       "    }\n",
       "</style>\n",
       "<table border=\"1\" class=\"dataframe\">\n",
       "  <thead>\n",
       "    <tr style=\"text-align: right;\">\n",
       "      <th></th>\n",
       "      <th>count</th>\n",
       "      <th>percent</th>\n",
       "    </tr>\n",
       "  </thead>\n",
       "  <tbody>\n",
       "    <tr>\n",
       "      <th>n_companies</th>\n",
       "      <td>17</td>\n",
       "      <td>0.016934</td>\n",
       "    </tr>\n",
       "  </tbody>\n",
       "</table>\n",
       "</div>"
      ],
      "text/plain": [
       "             count   percent\n",
       "n_companies     17  0.016934"
      ]
     },
     "execution_count": 173,
     "metadata": {},
     "output_type": "execute_result"
    }
   ],
   "source": [
    "sql = '''\n",
    "select\n",
    "    count(distinct company_id)\n",
    "    \n",
    "from company_company_future_interest_countries\n",
    "    \n",
    "'''\n",
    "\n",
    "df = query_database(connection, sql)\n",
    "df.index = ['n_companies']\n",
    "df['percent'] = 100 * df['count'] / n_companies\n",
    "df"
   ]
  },
  {
   "cell_type": "markdown",
   "metadata": {},
   "source": [
    "## how many orders are created a day/week/month?"
   ]
  },
  {
   "cell_type": "code",
   "execution_count": 183,
   "metadata": {},
   "outputs": [
    {
     "data": {
      "text/html": [
       "<div>\n",
       "<style>\n",
       "    .dataframe thead tr:only-child th {\n",
       "        text-align: right;\n",
       "    }\n",
       "\n",
       "    .dataframe thead th {\n",
       "        text-align: left;\n",
       "    }\n",
       "\n",
       "    .dataframe tbody tr th {\n",
       "        vertical-align: top;\n",
       "    }\n",
       "</style>\n",
       "<table border=\"1\" class=\"dataframe\">\n",
       "  <thead>\n",
       "    <tr style=\"text-align: right;\">\n",
       "      <th></th>\n",
       "      <th>date</th>\n",
       "      <th>count</th>\n",
       "    </tr>\n",
       "  </thead>\n",
       "  <tbody>\n",
       "    <tr>\n",
       "      <th>0</th>\n",
       "      <td>2017-07-20 00:00:00+00:00</td>\n",
       "      <td>7</td>\n",
       "    </tr>\n",
       "    <tr>\n",
       "      <th>1</th>\n",
       "      <td>2017-07-24 00:00:00+00:00</td>\n",
       "      <td>1</td>\n",
       "    </tr>\n",
       "    <tr>\n",
       "      <th>2</th>\n",
       "      <td>2017-07-25 00:00:00+00:00</td>\n",
       "      <td>6</td>\n",
       "    </tr>\n",
       "    <tr>\n",
       "      <th>3</th>\n",
       "      <td>2017-07-26 00:00:00+00:00</td>\n",
       "      <td>4</td>\n",
       "    </tr>\n",
       "    <tr>\n",
       "      <th>4</th>\n",
       "      <td>2017-07-27 00:00:00+00:00</td>\n",
       "      <td>1</td>\n",
       "    </tr>\n",
       "  </tbody>\n",
       "</table>\n",
       "</div>"
      ],
      "text/plain": [
       "                       date  count\n",
       "0 2017-07-20 00:00:00+00:00      7\n",
       "1 2017-07-24 00:00:00+00:00      1\n",
       "2 2017-07-25 00:00:00+00:00      6\n",
       "3 2017-07-26 00:00:00+00:00      4\n",
       "4 2017-07-27 00:00:00+00:00      1"
      ]
     },
     "execution_count": 183,
     "metadata": {},
     "output_type": "execute_result"
    },
    {
     "data": {
      "image/png": "[encoded data removed]",
      "text/plain": [
       "<matplotlib.figure.Figure at 0x11616a898>"
      ]
     },
     "metadata": {},
     "output_type": "display_data"
    }
   ],
   "source": [
    "sql = '''\n",
    "select\n",
    "    date_trunc('day', created_on) as date,\n",
    "    count(created_on) as count\n",
    "    \n",
    "from order_order\n",
    "\n",
    "group by 1\n",
    "\n",
    "order by 1\n",
    "\n",
    "'''\n",
    "\n",
    "df = query_database(connection, sql)\n",
    "fig, ax = plt.subplots(figsize=(15, 5))\n",
    "ax.plot(df['date'], df['count'])\n",
    "df.head()"
   ]
  },
  {
   "cell_type": "markdown",
   "metadata": {},
   "source": [
    "### week"
   ]
  },
  {
   "cell_type": "code",
   "execution_count": 185,
   "metadata": {},
   "outputs": [
    {
     "data": {
      "text/html": [
       "<div>\n",
       "<style>\n",
       "    .dataframe thead tr:only-child th {\n",
       "        text-align: right;\n",
       "    }\n",
       "\n",
       "    .dataframe thead th {\n",
       "        text-align: left;\n",
       "    }\n",
       "\n",
       "    .dataframe tbody tr th {\n",
       "        vertical-align: top;\n",
       "    }\n",
       "</style>\n",
       "<table border=\"1\" class=\"dataframe\">\n",
       "  <thead>\n",
       "    <tr style=\"text-align: right;\">\n",
       "      <th></th>\n",
       "      <th>date</th>\n",
       "      <th>count</th>\n",
       "    </tr>\n",
       "  </thead>\n",
       "  <tbody>\n",
       "    <tr>\n",
       "      <th>0</th>\n",
       "      <td>2017-07-17 00:00:00+00:00</td>\n",
       "      <td>7</td>\n",
       "    </tr>\n",
       "    <tr>\n",
       "      <th>1</th>\n",
       "      <td>2017-07-24 00:00:00+00:00</td>\n",
       "      <td>15</td>\n",
       "    </tr>\n",
       "    <tr>\n",
       "      <th>2</th>\n",
       "      <td>2017-07-31 00:00:00+00:00</td>\n",
       "      <td>14</td>\n",
       "    </tr>\n",
       "    <tr>\n",
       "      <th>3</th>\n",
       "      <td>2017-08-07 00:00:00+00:00</td>\n",
       "      <td>23</td>\n",
       "    </tr>\n",
       "    <tr>\n",
       "      <th>4</th>\n",
       "      <td>2017-08-14 00:00:00+00:00</td>\n",
       "      <td>14</td>\n",
       "    </tr>\n",
       "  </tbody>\n",
       "</table>\n",
       "</div>"
      ],
      "text/plain": [
       "                       date  count\n",
       "0 2017-07-17 00:00:00+00:00      7\n",
       "1 2017-07-24 00:00:00+00:00     15\n",
       "2 2017-07-31 00:00:00+00:00     14\n",
       "3 2017-08-07 00:00:00+00:00     23\n",
       "4 2017-08-14 00:00:00+00:00     14"
      ]
     },
     "execution_count": 185,
     "metadata": {},
     "output_type": "execute_result"
    },
    {
     "data": {
      "image/png": "[encoded data removed]",
      "text/plain": [
       "<matplotlib.figure.Figure at 0x10d142780>"
      ]
     },
     "metadata": {},
     "output_type": "display_data"
    }
   ],
   "source": [
    "sql = '''\n",
    "select\n",
    "    date_trunc('week', created_on) as date,\n",
    "    count(created_on) as count\n",
    "    \n",
    "from order_order\n",
    "\n",
    "group by 1\n",
    "\n",
    "order by 1\n",
    "\n",
    "'''\n",
    "\n",
    "df = query_database(connection, sql)\n",
    "fig, ax = plt.subplots(figsize=(15, 5))\n",
    "ax.plot(df['date'], df['count'])\n",
    "df.head()"
   ]
  },
  {
   "cell_type": "markdown",
   "metadata": {},
   "source": [
    "### month"
   ]
  },
  {
   "cell_type": "code",
   "execution_count": 186,
   "metadata": {},
   "outputs": [
    {
     "data": {
      "text/html": [
       "<div>\n",
       "<style>\n",
       "    .dataframe thead tr:only-child th {\n",
       "        text-align: right;\n",
       "    }\n",
       "\n",
       "    .dataframe thead th {\n",
       "        text-align: left;\n",
       "    }\n",
       "\n",
       "    .dataframe tbody tr th {\n",
       "        vertical-align: top;\n",
       "    }\n",
       "</style>\n",
       "<table border=\"1\" class=\"dataframe\">\n",
       "  <thead>\n",
       "    <tr style=\"text-align: right;\">\n",
       "      <th></th>\n",
       "      <th>date</th>\n",
       "      <th>count</th>\n",
       "    </tr>\n",
       "  </thead>\n",
       "  <tbody>\n",
       "    <tr>\n",
       "      <th>0</th>\n",
       "      <td>2017-07-01 00:00:00+00:00</td>\n",
       "      <td>23</td>\n",
       "    </tr>\n",
       "    <tr>\n",
       "      <th>1</th>\n",
       "      <td>2017-08-01 00:00:00+00:00</td>\n",
       "      <td>55</td>\n",
       "    </tr>\n",
       "    <tr>\n",
       "      <th>2</th>\n",
       "      <td>2017-09-01 00:00:00+00:00</td>\n",
       "      <td>35</td>\n",
       "    </tr>\n",
       "    <tr>\n",
       "      <th>3</th>\n",
       "      <td>2017-10-01 00:00:00+00:00</td>\n",
       "      <td>23</td>\n",
       "    </tr>\n",
       "    <tr>\n",
       "      <th>4</th>\n",
       "      <td>2017-11-01 00:00:00+00:00</td>\n",
       "      <td>26</td>\n",
       "    </tr>\n",
       "  </tbody>\n",
       "</table>\n",
       "</div>"
      ],
      "text/plain": [
       "                       date  count\n",
       "0 2017-07-01 00:00:00+00:00     23\n",
       "1 2017-08-01 00:00:00+00:00     55\n",
       "2 2017-09-01 00:00:00+00:00     35\n",
       "3 2017-10-01 00:00:00+00:00     23\n",
       "4 2017-11-01 00:00:00+00:00     26"
      ]
     },
     "execution_count": 186,
     "metadata": {},
     "output_type": "execute_result"
    },
    {
     "data": {
      "image/png": "[encoded data removed]",
      "text/plain": [
       "<matplotlib.figure.Figure at 0x10d2c2860>"
      ]
     },
     "metadata": {},
     "output_type": "display_data"
    }
   ],
   "source": [
    "sql = '''\n",
    "select\n",
    "    date_trunc('month', created_on) as date,\n",
    "    count(created_on) as count\n",
    "    \n",
    "from order_order\n",
    "\n",
    "group by 1\n",
    "\n",
    "order by 1\n",
    "\n",
    "'''\n",
    "\n",
    "df = query_database(connection, sql)\n",
    "fig, ax = plt.subplots(figsize=(15, 5))\n",
    "ax.plot(df['date'], df['count'])\n",
    "df.head()"
   ]
  }
 ],
 "metadata": {
  "kernelspec": {
   "display_name": "Python 3",
   "language": "python",
   "name": "python3"
  },
  "language_info": {
   "codemirror_mode": {
    "name": "ipython",
    "version": 3
   },
   "file_extension": ".py",
   "mimetype": "text/x-python",
   "name": "python",
   "nbconvert_exporter": "python",
   "pygments_lexer": "ipython3",
   "version": "3.6.3"
  }
 },
 "nbformat": 4,
 "nbformat_minor": 2
}
